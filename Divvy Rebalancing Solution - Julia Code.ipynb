{
 "cells": [
  {
   "cell_type": "markdown",
   "metadata": {},
   "source": [
    "# Divvy Re-Rebalancing Route Optimization Model\n",
    "# Solution in Julia"
   ]
  },
  {
   "cell_type": "markdown",
   "metadata": {},
   "source": [
    "#### Author: Xuan Amy Lin \n",
    "#### xxlin@uchicago.edu | M.S. in Analytics, University of Chicago | linkedin.com/in/xuanamylin/"
   ]
  },
  {
   "cell_type": "markdown",
   "metadata": {},
   "source": [
    "<br>\n",
    "\n",
    "The project aims to solve the classical traffic re-balancing problem in bike sharing systems. The dataset used is open-sourced by Divvy, the bike sharing program in Chicago.\n",
    "\n",
    "This is an implementation of the objective function and constraints detailed [here](https://github.com/xuanamylin/divvy-bike-rebalancing/blob/master/Divvy%20Rebalancing%20Solution%20-%20Math.ipynb). The model is set up in Julia with JuMP and solved using the Gurobi commercial solver. For the sake of demonstration, we crafted a solution to re-balance traffic of 29 Divvy stations. The route was mapped onto the Chicago map by Wei Grace Yin to illustrate how it works in action."
   ]
  },
  {
   "cell_type": "markdown",
   "metadata": {},
   "source": [
    "### Julia Code Execution"
   ]
  },
  {
   "cell_type": "code",
   "execution_count": 10,
   "metadata": {},
   "outputs": [],
   "source": [
    "using JuMP, Gurobi, CSV, DataFrames"
   ]
  },
  {
   "cell_type": "markdown",
   "metadata": {},
   "source": [
    "##### Load Data"
   ]
  },
  {
   "cell_type": "code",
   "execution_count": 19,
   "metadata": {
    "scrolled": true
   },
   "outputs": [],
   "source": [
    "# Load Station Information\n",
    "station_info = CSV.read(\"/path/rack_df_19.csv\", copycols=true);\n",
    "\n",
    "# Load Travel Time Matrix\n",
    "time = CSV.read(\"/path/dist_matrix_19.csv\", copycols=true);\n",
    "\n",
    "# Demand Data (Predicted)\n",
    "ds = CSV.read(\"/path/ds_weekday_19_adjusted.csv\", copycols=true);\n",
    "sort!(ds, :station_id, rev = false);"
   ]
  },
  {
   "cell_type": "markdown",
   "metadata": {},
   "source": [
    "##### Set Up Constants"
   ]
  },
  {
   "cell_type": "code",
   "execution_count": 27,
   "metadata": {},
   "outputs": [
    {
     "name": "stdout",
     "output_type": "stream",
     "text": [
      "b: [5, 12, 12, 4, 7, 5, 10, 12, 4, 7, 10, 8, 8, 9, 6, 6, 4, 5, 6, 7, 6, 7, 9, 9, 10, 9, 6, 8]\n",
      "N: [6.0, 8.0, 5.0, 10.0, 9.0, 6.0, 8.0, 13.0, 8.0, 14.0, 7.0, 4.0, 9.0, 5.0, 3.0, 4.0, 6.0, 13.0, 8.0, 4.0, 9.0, 3.0, 7.0, 6.0, 6.0, 8.0, 9.0, 6.0]\n",
      "S: Any[0, 1, 1, 0, 0, 0, 1, 0, 0, 0, 1, 1, 0, 1, 1, 1, 0, 0, 0, 1, 0, 1, 1, 1, 1, 1, 0, 1]\n"
     ]
    }
   ],
   "source": [
    "# Extract from loaded CSV\n",
    "R = Array(station_info[!,:docks]);    # number of racks available at each station\n",
    "t = time[:,1:end];                    # travel time from one station to another, a square matrix\n",
    "b = Array(ds[:,9]);                   # actual number of bikes\n",
    "N = Array(ds[:,10]);                  # expected number of bikes\n",
    "id = Array(ds[:,1]);                  # save station id for later\n",
    "\n",
    "# Mannually assign\n",
    "K = 1;                       # number of truck(s) used to rebalance; assume to be 1\n",
    "C = 20;                      # vehicle capacity\n",
    "T = 60;                      # time constraint\n",
    "n =28;                       # number of stations to optimize\n",
    "\n",
    "# Dummy variable indicating surplus at station i\n",
    "S = []\n",
    "for i = 1:n\n",
    "    if N[i] < b[i]\n",
    "        append!(S, 1) # Need less bikes at stop\n",
    "    else\n",
    "        append!(S, 0) # Need more bikes at stop\n",
    "    end\n",
    "end\n",
    "\n",
    "println(\"b: \", b);\n",
    "println(\"N: \", N);\n",
    "println(\"S: \", S);"
   ]
  },
  {
   "cell_type": "markdown",
   "metadata": {},
   "source": [
    "##### Optimization Model"
   ]
  },
  {
   "cell_type": "code",
   "execution_count": 42,
   "metadata": {
    "scrolled": true
   },
   "outputs": [
    {
     "name": "stdout",
     "output_type": "stream",
     "text": [
      "Academic license - for non-commercial use only\n"
     ]
    }
   ],
   "source": [
    "model = Model(with_optimizer(Gurobi.Optimizer, OutputFlag = 1));\n",
    "\n",
    "@variable(model, x[i=1:n, j=1:n], Bin);\n",
    "@variable(model, 0 <= u[i=1:n] <= C, Int);\n",
    "@variable(model, p[i=1:n] >= 0, Int);\n",
    "@variable(model, d[i=1:n] >= 0, Int);\n",
    "@variable(model, nd[i=1:n] >= 0);\n",
    "\n",
    "# --------------- Objective Function ---------------- #\n",
    "\n",
    "# Objective function: minimize dissatisfied customers\n",
    "@objective(model, Min, sum([(b[i] + d[i] - p[i] - N[i]) * S[i] + (N[i] - b[i] - d[i] + p[i]) * (1-S[i]) for i = 1:n]));\n",
    "\n",
    "# make sure the van doesn't over drop-off or over pick-up\n",
    "for i=1:n\n",
    "   @constraint(model, (b[i] + d[i] - p[i] - N[i]) * S[i] + (N[i] - b[i] - d[i] + p[i]) * (1-S[i]) >= 0);\n",
    "end\n",
    "\n",
    "\n",
    "# --------------- Routing Constraints ---------------- #\n",
    "\n",
    "\n",
    "for i=1:n\n",
    "    \n",
    "    # Same number of arcs going in and out\n",
    "    @constraint(model, sum([x[i,j] for j=1:n]) == sum([x[j,i] for j=1:n]));\n",
    "    \n",
    "    # Go through each route once at most\n",
    "    @constraint(model, sum([x[i,j] for j=1:n]) <= 1);\n",
    "    \n",
    "    # Going from and to the same station is illegal\n",
    "    @constraint(model, x[i,i] == 0);\n",
    "    \n",
    "end\n",
    "\n",
    "\n",
    "# No subtouring: going back and forth between two stations is illegal\n",
    "for i=1:n\n",
    "    for j=1:n\n",
    "        if i != j\n",
    "           @constraint(model, x[i,j] + x[j,i] <= 1);\n",
    "        end\n",
    "    end\n",
    "end\n",
    "\n",
    "# Set Station 1 as the starting point and the end point\n",
    "@constraint(model, sum([x[1, j] for j=2:n]) == K);\n",
    "@constraint(model, sum([x[j, 1] for j=2:n]) == K);\n",
    "\n",
    "# Time constraint\n",
    "@constraint(model, sum([x[i,j] * time[i,j] for i=1:n for j=1:n]) <= T);\n",
    "\n",
    "# Avoid sub-tripping by implementing a non-decreasing variable \"nd\"\n",
    "for i=1:n\n",
    "    for j=2:n\n",
    "        @constraint(model, nd[j] >= nd[i] + 1 - 9999 * (1-x[i,j]));\n",
    "    end\n",
    "end\n",
    "\n",
    "\n",
    "# --------------- Capacity Constraints ---------------- #\n",
    "\n",
    "@constraint(model, u[1] == 0);   # The van is empty at the start point\n",
    "@constraint(model, d[1] == 0);   # Can't drop off from an empty van\n",
    "\n",
    "# At each node...\n",
    "for i=1:n\n",
    "    \n",
    "    # Pick up less bikes than available bikes at the given stop\n",
    "    @constraint(model, 0 <= p[i] <= b[i]);\n",
    "\n",
    "    # Drop off less bikes than available slots at the given stop\n",
    "    @constraint(model, 0 <= d[i] <= R[i] - b[i]);\n",
    "    \n",
    "end\n",
    "\n",
    "# Can't pick up more bikes than available in the system\n",
    "# Total pickup >= dropoffs\n",
    "@constraint(model, sum([d[i] for i=1:n]) <= sum([p[i] for i=1:n]));\n",
    "\n",
    "# Either drop off or pick up at any given station\n",
    "for i=2:n\n",
    "    @constraint(model, d[i] * S[i] + p[i] * (1-S[i]) == 0);\n",
    "end\n",
    "\n",
    "# Synergy with the route\n",
    "for i=2:n\n",
    "    \n",
    "    # If the van doesn't go through station i, d[i] = 0 and p[i] = 0\n",
    "    # Otherwise, \n",
    "    @constraint(model, u[i] + d[i] + p[i] + nd[i] <= 2 * C * sum([x[j,i] for j=1:n]));\n",
    "\n",
    "    # If the van go through station i, d[i] > 0 or d[i] > 0\n",
    "    # Otherwise, non-binding\n",
    "    @constraint(model, d[i] + p[i] >= sum([x[j,i] for j=1:n]));\n",
    "    \n",
    "end\n",
    "\n",
    "# Continuity of van inventory u_i\n",
    "for i=1:n\n",
    "    for j=2:n\n",
    "        @constraint(model, u[j] >= u[i] - d[i] + p[i] - C * (1-x[i,j]));\n",
    "        @constraint(model, u[j] <= u[i] - d[i] + p[i] + C * (1-x[i,j]));\n",
    "    end\n",
    "end\n",
    "\n",
    "#print(model);\n"
   ]
  },
  {
   "cell_type": "markdown",
   "metadata": {},
   "source": [
    "##### Find the Optimal Solution"
   ]
  },
  {
   "cell_type": "code",
   "execution_count": 29,
   "metadata": {
    "scrolled": true
   },
   "outputs": [
    {
     "name": "stdout",
     "output_type": "stream",
     "text": [
      "Academic license - for non-commercial use only\n",
      "Gurobi Optimizer version 9.0.1 build v9.0.1rc0 (mac64)\n",
      "Optimize a model with 3279 rows, 952 columns and 16241 nonzeros\n",
      "Model fingerprint: 0xb6df51bc\n",
      "Variable types: 84 continuous, 868 integer (784 binary)\n",
      "Coefficient statistics:\n",
      "  Matrix range     [3e-01, 1e+04]\n",
      "  Objective range  [1e+00, 1e+00]\n",
      "  Bounds range     [4e+00, 4e+01]\n",
      "  RHS range        [1e+00, 1e+04]\n",
      "Found heuristic solution: objective 88.0000000\n",
      "Presolve removed 602 rows and 114 columns\n",
      "Presolve time: 0.04s\n",
      "Presolved: 2677 rows, 838 columns, 13265 nonzeros\n",
      "Variable types: 27 continuous, 811 integer (760 binary)\n",
      "\n",
      "Root relaxation: objective 1.000000e+00, 127 iterations, 0.00 seconds\n",
      "\n",
      "    Nodes    |    Current Node    |     Objective Bounds      |     Work\n",
      " Expl Unexpl |  Obj  Depth IntInf | Incumbent    BestBd   Gap | It/Node Time\n",
      "\n",
      "     0     0    1.00000    0   32   88.00000    1.00000  98.9%     -    0s\n",
      "H    0     0                      63.0000000    1.00000  98.4%     -    0s\n",
      "H    0     0                      57.0000000    1.00000  98.2%     -    0s\n",
      "     0     0    1.33336    0   60   57.00000    1.33336  97.7%     -    0s\n",
      "     0     0    1.84058    0   64   57.00000    1.84058  96.8%     -    0s\n",
      "     0     0    5.83808    0   47   57.00000    5.83808  89.8%     -    0s\n",
      "H    0     0                      47.0000000    5.83808  87.6%     -    0s\n",
      "     0     0    6.03639    0   50   47.00000    6.03639  87.2%     -    0s\n",
      "     0     0    6.05121    0   48   47.00000    6.05121  87.1%     -    0s\n",
      "     0     0    6.24677    0   50   47.00000    6.24677  86.7%     -    0s\n",
      "     0     0    6.24677    0   50   47.00000    6.24677  86.7%     -    0s\n",
      "H    0     0                      43.0000000    6.24677  85.5%     -    0s\n",
      "     0     0    6.26011    0   68   43.00000    6.26011  85.4%     -    0s\n",
      "     0     0    6.26011    0   73   43.00000    6.26011  85.4%     -    0s\n",
      "     0     0    6.26872    0   81   43.00000    6.26872  85.4%     -    0s\n",
      "     0     0    6.26872    0   78   43.00000    6.26872  85.4%     -    0s\n",
      "H    0     0                      37.0000000    6.32160  82.9%     -    0s\n",
      "     0     2    6.32160    0   78   37.00000    6.32160  82.9%     -    0s\n",
      "H   30    35                      25.0000000    6.32160  74.7%  34.7    0s\n",
      "H   61    65                      19.0000000    6.32160  66.7%  29.4    1s\n",
      "H  392   300                      15.0000000    6.32160  57.9%  16.1    1s\n",
      "  1110   797    7.94250   54   81   15.00000    6.95849  53.6%  19.6    5s\n",
      "  1140   818    8.84109   73   96   15.00000    7.00000  53.3%  22.2   10s\n",
      "H 1144   779                      14.0000000    7.00000  50.0%  22.1   11s\n",
      "H 1243   810                      12.0000000    7.00000  41.7%  26.0   15s\n",
      "  4517  2045    7.98873   48   21   12.00000    7.00000  41.7%  27.4   20s\n",
      "  8324  4411    9.34205   85   37   12.00000    7.05933  41.2%  26.7   25s\n",
      " 10537  5334    8.11539   47   39   12.00000    7.10530  40.8%  26.1   30s\n",
      "H10688  5160                      11.0000000    7.10530  35.4%  27.6   33s\n",
      " 11406  5317    7.22393   51   27   11.00000    7.10530  35.4%  27.5   35s\n",
      "H11966  5009                      10.0000000    7.10530  28.9%  27.1   35s\n",
      " 14842  5246    7.32396   52   40   10.00000    7.16415  28.4%  27.3   40s\n",
      " 20023  4796    8.56924   58    8   10.00000    7.46602  25.3%  28.0   45s\n",
      " 20842  4595    7.49671   51   68   10.00000    7.49671  25.0%  28.5   50s\n",
      " 22438  4901 infeasible   71        10.00000    7.49671  25.0%  29.4   55s\n",
      " 26738  5526    7.49671   62   81   10.00000    7.49671  25.0%  29.8   60s\n",
      " 29685  5667    8.33055   72   55   10.00000    7.49671  25.0%  29.7   65s\n",
      " 35265  5712    8.44645   68   33   10.00000    7.49671  25.0%  30.0   70s\n",
      " 41663  6942    8.45249   76   78   10.00000    7.59168  24.1%  30.0   86s\n",
      " 41673  6949    8.43629   67   40   10.00000    7.59168  24.1%  30.0   90s\n",
      " 41692  6966    7.59168   61   83   10.00000    7.59168  24.1%  30.1   95s\n",
      " 43231  7214    8.20053  116   55   10.00000    7.59168  24.1%  30.2  101s\n",
      " 46610  7554 infeasible   83        10.00000    7.59168  24.1%  30.0  105s\n",
      " 52137  7281    8.11788   79   45   10.00000    7.59168  24.1%  30.2  110s\n",
      " 57775  6546    7.93558   79   64   10.00000    7.85091  21.5%  30.0  115s\n",
      " 63157  5189    8.05851   85   64   10.00000    8.00000  20.0%  30.0  120s\n",
      " 65702  5491    8.04140  114   31   10.00000    8.00000  20.0%  31.3  125s\n",
      " 69935  4882     cutoff  101        10.00000    8.06985  19.3%  31.9  130s\n",
      " 76112  3572    9.00000   83   17   10.00000    8.26235  17.4%  31.9  135s\n",
      " 81864  1677     cutoff   72        10.00000    8.52836  14.7%  31.7  140s\n",
      "\n",
      "Cutting planes:\n",
      "  Gomory: 48\n",
      "  Cover: 46\n",
      "  Implied bound: 43\n",
      "  Projected implied bound: 5\n",
      "  MIR: 108\n",
      "  StrongCG: 1\n",
      "  Flow cover: 368\n",
      "  Inf proof: 6\n",
      "  Zero half: 28\n",
      "  RLT: 18\n",
      "  Relax-and-lift: 9\n",
      "\n",
      "Explored 85416 nodes (2713355 simplex iterations) in 143.18 seconds\n",
      "Thread count was 8 (of 8 available processors)\n",
      "\n",
      "Solution count 10: 10 11 12 ... 47\n",
      "\n",
      "Optimal solution found (tolerance 1.00e-04)\n",
      "Best objective 1.000000000000e+01, best bound 1.000000000000e+01, gap 0.0000%\n",
      "Objective: 10.0\n",
      "X: [0.0 0.0 0.0 0.0 0.0 0.0 0.0 0.0 0.0 0.0 0.0 0.0 0.0 0.0 0.0 0.0 0.0 0.0 0.0 0.0 0.0 0.0 0.0 0.0 1.0 0.0 0.0 0.0; 0.0 0.0 0.0 0.0 0.0 0.0 0.0 0.0 0.0 0.0 0.0 1.0 0.0 0.0 0.0 0.0 0.0 0.0 0.0 0.0 0.0 0.0 0.0 0.0 0.0 0.0 0.0 0.0; 0.0 0.0 0.0 1.0 0.0 0.0 0.0 0.0 0.0 0.0 0.0 0.0 0.0 0.0 0.0 0.0 0.0 0.0 0.0 0.0 0.0 0.0 0.0 0.0 0.0 0.0 0.0 0.0; 0.0 0.0 0.0 0.0 1.0 0.0 0.0 0.0 0.0 0.0 0.0 0.0 0.0 0.0 0.0 0.0 0.0 0.0 0.0 0.0 0.0 0.0 0.0 0.0 0.0 0.0 0.0 0.0; 0.0 1.0 0.0 0.0 0.0 0.0 0.0 0.0 0.0 0.0 0.0 0.0 0.0 0.0 0.0 0.0 0.0 0.0 0.0 0.0 0.0 0.0 0.0 0.0 0.0 0.0 0.0 0.0; 0.0 0.0 0.0 0.0 0.0 0.0 0.0 0.0 0.0 0.0 1.0 0.0 0.0 0.0 0.0 0.0 0.0 0.0 0.0 0.0 0.0 0.0 0.0 0.0 0.0 0.0 0.0 0.0; 0.0 0.0 0.0 0.0 0.0 0.0 0.0 0.0 0.0 1.0 0.0 0.0 0.0 0.0 0.0 0.0 0.0 0.0 0.0 0.0 0.0 0.0 0.0 0.0 0.0 0.0 0.0 0.0; 0.0 0.0 0.0 0.0 0.0 0.0 0.0 0.0 0.0 0.0 0.0 0.0 0.0 0.0 0.0 0.0 0.0 0.0 0.0 0.0 0.0 0.0 0.0 0.0 0.0 0.0 0.0 0.0; 0.0 0.0 0.0 0.0 0.0 0.0 1.0 0.0 0.0 0.0 0.0 0.0 0.0 0.0 0.0 0.0 0.0 0.0 0.0 0.0 0.0 0.0 0.0 0.0 0.0 0.0 0.0 0.0; 0.0 0.0 0.0 0.0 0.0 0.0 0.0 0.0 0.0 0.0 0.0 0.0 0.0 0.0 0.0 0.0 1.0 0.0 0.0 0.0 0.0 0.0 0.0 0.0 0.0 0.0 0.0 0.0; 1.0 0.0 0.0 0.0 0.0 0.0 0.0 0.0 0.0 0.0 0.0 0.0 0.0 0.0 0.0 0.0 0.0 0.0 0.0 0.0 0.0 0.0 0.0 0.0 0.0 0.0 0.0 0.0; 0.0 0.0 0.0 0.0 0.0 0.0 0.0 0.0 0.0 0.0 0.0 0.0 1.0 0.0 0.0 0.0 0.0 0.0 0.0 0.0 0.0 0.0 0.0 0.0 0.0 0.0 0.0 0.0; 0.0 0.0 0.0 0.0 0.0 0.0 0.0 0.0 0.0 0.0 0.0 0.0 0.0 0.0 0.0 0.0 0.0 1.0 0.0 0.0 0.0 0.0 0.0 0.0 0.0 0.0 0.0 0.0; 0.0 0.0 0.0 0.0 0.0 0.0 0.0 0.0 1.0 0.0 0.0 0.0 0.0 0.0 0.0 0.0 0.0 0.0 0.0 0.0 0.0 0.0 0.0 0.0 0.0 0.0 0.0 0.0; 0.0 0.0 0.0 0.0 0.0 0.0 0.0 0.0 0.0 0.0 0.0 0.0 0.0 0.0 0.0 0.0 0.0 0.0 0.0 0.0 0.0 0.0 0.0 0.0 0.0 1.0 0.0 0.0; 0.0 0.0 0.0 0.0 0.0 0.0 0.0 0.0 0.0 0.0 0.0 0.0 0.0 0.0 0.0 0.0 0.0 0.0 0.0 0.0 0.0 0.0 0.0 0.0 0.0 0.0 0.0 0.0; 0.0 0.0 0.0 0.0 0.0 0.0 0.0 0.0 0.0 0.0 0.0 0.0 0.0 0.0 0.0 0.0 0.0 0.0 0.0 0.0 0.0 0.0 1.0 0.0 0.0 0.0 0.0 0.0; 0.0 0.0 0.0 0.0 0.0 0.0 0.0 0.0 0.0 0.0 0.0 0.0 0.0 0.0 0.0 0.0 0.0 0.0 0.0 0.0 0.0 0.0 0.0 1.0 0.0 0.0 0.0 0.0; 0.0 0.0 0.0 0.0 0.0 0.0 0.0 0.0 0.0 0.0 0.0 0.0 0.0 0.0 0.0 0.0 0.0 0.0 0.0 0.0 0.0 0.0 0.0 0.0 0.0 0.0 0.0 0.0; 0.0 0.0 0.0 0.0 0.0 0.0 0.0 0.0 0.0 0.0 0.0 0.0 0.0 0.0 1.0 0.0 0.0 0.0 0.0 0.0 0.0 0.0 0.0 0.0 0.0 0.0 0.0 0.0; 0.0 0.0 1.0 0.0 0.0 0.0 0.0 0.0 0.0 0.0 0.0 0.0 0.0 0.0 0.0 0.0 0.0 0.0 0.0 0.0 0.0 0.0 0.0 0.0 0.0 0.0 0.0 0.0; 0.0 0.0 0.0 0.0 0.0 0.0 0.0 0.0 0.0 0.0 0.0 0.0 0.0 0.0 0.0 0.0 0.0 0.0 0.0 0.0 0.0 0.0 0.0 0.0 0.0 0.0 0.0 0.0; 0.0 0.0 0.0 0.0 0.0 0.0 0.0 0.0 0.0 0.0 0.0 0.0 0.0 0.0 0.0 0.0 0.0 0.0 0.0 0.0 1.0 0.0 0.0 0.0 0.0 0.0 0.0 0.0; 0.0 0.0 0.0 0.0 0.0 1.0 0.0 0.0 0.0 0.0 0.0 0.0 0.0 0.0 0.0 0.0 0.0 0.0 0.0 0.0 0.0 0.0 0.0 0.0 0.0 0.0 0.0 0.0; 0.0 0.0 0.0 0.0 0.0 0.0 0.0 0.0 0.0 0.0 0.0 0.0 0.0 0.0 0.0 0.0 0.0 0.0 0.0 1.0 0.0 0.0 0.0 0.0 0.0 0.0 0.0 0.0; 0.0 0.0 0.0 0.0 0.0 0.0 0.0 0.0 0.0 0.0 0.0 0.0 0.0 0.0 0.0 0.0 0.0 0.0 0.0 0.0 0.0 0.0 0.0 0.0 0.0 0.0 1.0 0.0; 0.0 0.0 0.0 0.0 0.0 0.0 0.0 0.0 0.0 0.0 0.0 0.0 0.0 0.0 0.0 0.0 0.0 0.0 0.0 0.0 0.0 0.0 0.0 0.0 0.0 0.0 0.0 1.0; 0.0 0.0 0.0 0.0 0.0 0.0 0.0 0.0 0.0 0.0 0.0 0.0 0.0 1.0 0.0 0.0 0.0 0.0 0.0 0.0 0.0 0.0 0.0 0.0 0.0 0.0 0.0 0.0]\n",
      "D: [0.0, 0.0, 0.0, 6.0, 2.0, 1.0, 0.0, 0.0, 4.0, 7.0, 0.0, 0.0, 1.0, 0.0, 0.0, 0.0, 2.0, 8.0, 0.0, 0.0, 3.0, 0.0, 0.0, 0.0, 0.0, 0.0, 3.0, 0.0]\n",
      "P: [0.0, 4.0, 7.0, 0.0, 0.0, 0.0, 2.0, 0.0, 0.0, 0.0, 3.0, 4.0, 0.0, 4.0, 3.0, 0.0, 0.0, 0.0, 0.0, 3.0, 0.0, 0.0, 2.0, 3.0, 4.0, 1.0, 0.0, 2.0]\n",
      "U: [0.0, 1.0, 2.0, 9.0, 3.0, 3.0, 10.0, 0.0, 14.0, 12.0, 2.0, 5.0, 9.0, 10.0, 7.0, 0.0, 5.0, 8.0, 0.0, 4.0, 5.0, 0.0, 3.0, 0.0, 0.0, 10.0, 11.0, 8.0]\n",
      "Nd: [0.0, 21.0, 14.0, 15.0, 20.0, 34.0, 9.0, 0.0, 8.0, 10.0, 35.0, 22.0, 23.0, 7.0, 3.0, 0.0, 11.0, 24.0, 0.0, 2.0, 13.0, 0.0, 12.0, 33.0, 1.0, 4.0, 5.0, 6.0]\n"
     ]
    }
   ],
   "source": [
    "optimize!(model)\n",
    "obj = JuMP.objective_value(model)\n",
    "x = JuMP.value.(x);\n",
    "d = JuMP.value.(d);\n",
    "p = JuMP.value.(p);\n",
    "u = JuMP.value.(u);\n",
    "nd = JuMP.value.(nd);\n",
    "println(\"Objective: \", obj)\n",
    "println(\"X: \", x)\n",
    "println(\"D: \", d)\n",
    "println(\"P: \", p)\n",
    "println(\"U: \", u)\n",
    "println(\"Nd: \", nd)"
   ]
  },
  {
   "cell_type": "code",
   "execution_count": 41,
   "metadata": {
    "scrolled": true
   },
   "outputs": [
    {
     "name": "stdout",
     "output_type": "stream",
     "text": [
      "Stations passed through: 24.0 / 28 stations\n",
      "Time Used: 58.08\n",
      "Dissatisfied Customers (Before Optimization): 89.0\n",
      "Dissatisfied Customers (Best Case): 7.0\n",
      "Dissatisfied Customers (After Optimization): 10.0\n"
     ]
    }
   ],
   "source": [
    "obj_before = sum([(b[i] - N[i]) * S[i] + (N[i] - b[i]) * (1-S[i]) for i = 1:n])\n",
    "time_used = sum([x[i,j] * time[i,j] for i=1:n for j=1:n])\n",
    "println(\"Stations passed through: \", sum(x), \" / \", n, \" stations\")\n",
    "println(\"Time Used: \", sum(time_used))\n",
    "println(\"Dissatisfied Customers (Before Optimization): \", obj_before)\n",
    "println(\"Dissatisfied Customers (Best Case): \", abs(sum(b)-sum(N)))\n",
    "println(\"Dissatisfied Customers (After Optimization): \", obj)"
   ]
  },
  {
   "cell_type": "markdown",
   "metadata": {},
   "source": [
    "It takes 58.08 minutes to travel the optimal route. Due to the 60-minute time constraint, 4 stations out of the total 29 stations are not traversed. One station is excluded because its predicted demand is the same as the actual demand. This results in the inability to meet the best case objective function."
   ]
  },
  {
   "cell_type": "markdown",
   "metadata": {},
   "source": [
    "##### The Optimal Route Plotted Against Chicago Map\n",
    "Image plotted by Wei Grace Yin"
   ]
  },
  {
   "cell_type": "markdown",
   "metadata": {},
   "source": [
    "<div>\n",
    "<img src=\"https://raw.githubusercontent.com/xuanamylin/divvy-bike-rebalancing/master/Plot_Demo.png\" width = \"700\" />\n",
    "</div>"
   ]
  },
  {
   "cell_type": "markdown",
   "metadata": {},
   "source": [
    "##### Detail data on the optimal route"
   ]
  },
  {
   "cell_type": "markdown",
   "metadata": {},
   "source": [
    "|Station ID|Action|Van Inv. (Before Arrival)|Actual|Expected | After Optimization|Time to the Next Station (Minute)|\n",
    "|---|---|---|---|---|---|---|\n",
    "|30||0|5|6|5|1.43|\n",
    "|333|pick up 4|0|10|6|6|2.95|\n",
    "|213|pick up 3|4|7|4|4|1.801666667|\n",
    "|160|pick up 3|7|6|3|3|2.681666667|\n",
    "|374|pick up 1|10|9|8|8|2.145|\n",
    "|376|drop off 3|11|6|9|9|5.725|\n",
    "|383|pick up 2|8|8|6|6|1.9|\n",
    "|146|pick up 4|10|9|5|5|2.375|\n",
    "|88|drop off 4|14|4|8|8|0.893333333|\n",
    "|71|pick up 2|10|10|8|8|1.945|\n",
    "|91|drop off 7|12|7|14|14|1.853333333|\n",
    "|169|drop off 2|5|4|6|6|3.218333333|\n",
    "|39|pick up 7|3|12|5|5|1.675|\n",
    "|321|pick up 2|10|9|7|7|0.956666667|\n",
    "|255|drop off 3|12|6|9|9|3.483333333|\n",
    "|40|drop off 6|9|4|10|10|2.536666667|\n",
    "|47|drop off 2|3|7|9|9|3.005|\n",
    "|35|pick up 4|1|12|8|8|6.948333333|\n",
    "|94|pick up 4|5|8|4|4|0.625|\n",
    "|141|drop off 1|9|8|9|9|2.325|\n",
    "|182|drop off 8|8|5|13|13|2.55|\n",
    "|331|pick up 3|0|9|6|6|0.315|\n",
    "|60|drop off 1|3|5|6|6|3.976666667|\n",
    "|92|pick up 3|2|10|7|7|2.365|\n",
    "|Back to 30||5"
   ]
  },
  {
   "cell_type": "markdown",
   "metadata": {},
   "source": [
    "##### Export Result into A CSV File"
   ]
  },
  {
   "cell_type": "code",
   "execution_count": 33,
   "metadata": {
    "scrolled": false
   },
   "outputs": [],
   "source": [
    "# Save Result\n",
    "inventory = DataFrame(d = d, p = p, u = u, \n",
    "              nd = nd,N=N[1:n], b=b[1:n], R=R[1:n], time = time_used,\n",
    "              after = b.+d.-p);\n",
    "#names!(a, [\"d\", \"p\", \"u\"]);\n",
    "route = DataFrame(x);\n",
    "to_export = hcat(DataFrame(x = collect(1:1:n), station_id = ds[:,1]), route, inventory);\n",
    "CSV.write(\"/path/weekday19_adjusted_60min.csv\",\n",
    "    to_export);"
   ]
  }
 ],
 "metadata": {
  "kernelspec": {
   "display_name": "Julia 1.3.1",
   "language": "julia",
   "name": "julia-1.3"
  },
  "language_info": {
   "file_extension": ".jl",
   "mimetype": "application/julia",
   "name": "julia",
   "version": "1.3.1"
  }
 },
 "nbformat": 4,
 "nbformat_minor": 4
}
